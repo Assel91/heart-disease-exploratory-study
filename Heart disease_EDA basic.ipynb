{
 "cells": [
  {
   "cell_type": "code",
   "execution_count": null,
   "id": "434e3560-4d19-49e1-b720-92bae723f535",
   "metadata": {},
   "outputs": [],
   "source": [
    "import pandas as pd\n",
    "import numpy as np\n",
    "import matplotlib.pyplot as plt\n",
    "import seaborn as sns \n",
    "import category_encoders as ce\n",
    "from sklearn import preprocessing \n",
    "\n",
    "df_heart = pd.read_csv('heart.csv')\n",
    "df_heart.head()"
   ]
  },
  {
   "cell_type": "code",
   "execution_count": null,
   "id": "c0789d65-2d00-49b9-bdce-15571dbd4d9d",
   "metadata": {},
   "outputs": [],
   "source": [
    "df_heart.shape"
   ]
  },
  {
   "cell_type": "code",
   "execution_count": null,
   "id": "33bd7a92-e4b8-4a3b-999a-1fc97cae2341",
   "metadata": {},
   "outputs": [],
   "source": [
    "#Проверяем наличие размеченных и не размеченных данных, что бы понять стоит ли дальше проводить анализ\n",
    "df_heart['target'].value_counts(normalize=True)"
   ]
  },
  {
   "cell_type": "markdown",
   "id": "99d881ef-a89f-4d8b-b7b3-0735d7010214",
   "metadata": {},
   "source": [
    "#### Как видим выборка состоит из 14 признаков, по 303 пациентам. Как видим 54% пациентом имеющих болезнь сердца. К сожалению не совсем понятно, какая именно болезнь сердца у пациентов, поэтому мы предполагаем что признак болезнь сердца говорит о всех пациентах диагностированных сердечно-сосудистыми заболеваниями. "
   ]
  },
  {
   "cell_type": "code",
   "execution_count": null,
   "id": "0d95e929-eae8-49b0-a282-9dd0e1b19127",
   "metadata": {},
   "outputs": [],
   "source": [
    "#Переименовываем поля для удобства \n",
    "df_heart = df_heart.rename(columns = {\n",
    "    \"age\": \"возраст\",\n",
    "    \"sex\": \"пол (1 - мужчина, 0 - женщина)\",\n",
    "    \"cp\": \"тип боли в груди (4 значения)\",\n",
    "    \"trestbps\": \"артериальное давление в покое\",\n",
    "    \"chol\": \"холестерин сыворотки в мг/дл\",\n",
    "    \"fbs\": \"уровень сахара в крови натощак > 120 мг/дл\",\n",
    "    \"restecg\": \"результаты электрокардиографии в покое (значения 0,1,2)\",\n",
    "    \"thalach\": \"достигнута максимальная частота сердечных сокращений\",\n",
    "    \"exang\": \"стенокардия, вызванная физической нагрузкой\",\n",
    "    \"oldpeak\": \"депрессия ST, вызванная физической нагрузкой, по сравнению с состоянием покоя\",\n",
    "    \"slope\": \"наклон пикового сегмента ST при нагрузке\",\n",
    "    \"ca\": \"количество крупных сосудов (0-3), окрашенных при флюроскопии\",\n",
    "    \"thal\":  \"дефект, где 3 = нормальный; 6 = фиксированный дефект; 7 = обратимый дефект\",\n",
    "    \"old\": \"Старше 60 лет\"\n",
    "})"
   ]
  },
  {
   "cell_type": "code",
   "execution_count": null,
   "id": "f2d6afeb-015d-4683-8269-f72d852171ce",
   "metadata": {},
   "outputs": [],
   "source": [
    "df_heart.head()"
   ]
  },
  {
   "cell_type": "code",
   "execution_count": null,
   "id": "57c93725-4313-4f44-a3db-1af57efdeef7",
   "metadata": {},
   "outputs": [],
   "source": [
    "# Проверка null значений\n",
    "df_heart.isnull().sum()"
   ]
  },
  {
   "cell_type": "code",
   "execution_count": null,
   "id": "7469996e-23fe-46da-82ec-f4db5e7decaf",
   "metadata": {},
   "outputs": [],
   "source": [
    "# Проверка на дубликаты \n",
    "df_heart.duplicated().sum()"
   ]
  },
  {
   "cell_type": "code",
   "execution_count": null,
   "id": "53d8311c-6420-41b8-a837-8dba0142988e",
   "metadata": {},
   "outputs": [],
   "source": [
    "df_heart[df_heart.duplicated(keep=False)]"
   ]
  },
  {
   "cell_type": "code",
   "execution_count": null,
   "id": "06f742d3-e9c3-433c-a06a-e24c58702387",
   "metadata": {},
   "outputs": [],
   "source": [
    "df_heart = df_heart.drop_duplicates()"
   ]
  },
  {
   "cell_type": "code",
   "execution_count": null,
   "id": "ae0ebd00-7095-4ebd-a69f-5d7dd20e2825",
   "metadata": {},
   "outputs": [],
   "source": [
    "df_heart.info()"
   ]
  },
  {
   "cell_type": "code",
   "execution_count": null,
   "id": "d2cedb8b-cb14-4409-a5f9-f8688bbf0c33",
   "metadata": {},
   "outputs": [],
   "source": [
    "# Определяем категориальные, количественные, бинарные признаки\n",
    "for col in df_heart.columns: \n",
    "    unique_vals = df_heart[col].nunique()\n",
    "    if df_heart[col].dtype in ['int64','float64']:\n",
    "        if unique_vals == 2:\n",
    "            print(f\"{col} - бинарный признак (два значения)\")\n",
    "        elif unique_vals < 5:\n",
    "            print(f\"{col} - категориальный признак (значений менее 5)\")\n",
    "        else:\n",
    "            print(f\"{col} - количественный признак\")"
   ]
  },
  {
   "cell_type": "code",
   "execution_count": null,
   "id": "d810d722-f82a-4bec-adbc-e628346f495d",
   "metadata": {},
   "outputs": [],
   "source": [
    "numeric_values = ['возраст','артериальное давление в покое','холестерин сыворотки в мг/дл', 'достигнута максимальная частота сердечных сокращений', 'депрессия ST, вызванная физической нагрузкой, по сравнению с состоянием покоя', 'количество крупных сосудов (0-3), окрашенных при флюроскопии']\n",
    "categorical_values = ['тип боли в груди (4 значения)','результаты электрокардиографии в покое (значения 0,1,2)','наклон пикового сегмента ST при нагрузке','дефект, где 3 = нормальный; 6 = фиксированный дефект; 7 = обратимый дефект']\n",
    "binary_values = ['пол (1 - мужчина, 0 - женщина)','уровень сахара в крови натощак > 120 мг/дл','стенокардия, вызванная физической нагрузкой', 'target']"
   ]
  },
  {
   "cell_type": "code",
   "execution_count": null,
   "id": "fb0acd64-8b58-4bfd-98c8-134b584375d1",
   "metadata": {},
   "outputs": [],
   "source": [
    "# Анализ выбросов\n",
    "fig, axs = plt.subplots(len(numeric_values), 2, figsize=(12, 4* len(numeric_values)))\n",
    "\n",
    "for i, col in enumerate(numeric_values):\n",
    "\n",
    "    sns.boxplot(x=df_heart[col], ax = axs[i,0], color = 'skyblue')\n",
    "    axs[i,0].set_title(f'Boxplot - {col}')\n",
    "\n",
    "    sns.kdeplot(x =df_heart[col], ax =axs[i,1], color = 'coral')\n",
    "    axs[i,1].set_title(f'Distribution (KDE) - {col}')\n",
    "\n",
    "plt.tight_layout()\n",
    "plt.show()"
   ]
  },
  {
   "cell_type": "markdown",
   "id": "e0bc1abe-f220-49a2-bbb9-2fda3f89e921",
   "metadata": {},
   "source": [
    "### Как видно на диаграммах бокс плот и kdeplot, почти все количественные признаки распределены не нормально. Удаление и либо замена признаков в данном кейсе не приемлемо, так как аномальные значения могут указывать на заболевания сердца."
   ]
  },
  {
   "cell_type": "markdown",
   "id": "2c3b9ba4-99cd-445a-9e2b-f40b58141390",
   "metadata": {},
   "source": [
    "## Детальное изучение выбросов"
   ]
  },
  {
   "cell_type": "code",
   "execution_count": null,
   "id": "0dd814f2-4b7b-4b00-95b3-5d9f5de229a6",
   "metadata": {},
   "outputs": [],
   "source": [
    "# Детальное изучение выбросов\n",
    "outlier_rows = []\n",
    "for col in numeric_values:\n",
    "    Q1 = df_heart[col].quantile(0.25)\n",
    "    Q3 = df_heart[col].quantile(0.75)\n",
    "    Median = df_heart[col].median()\n",
    "    IQR = Q3 - Q1\n",
    "    lower_bound = Q1 - 1.5*IQR\n",
    "    upper_bound = Q3 + 1.5*IQR\n",
    "    outliers = df_heart[(df_heart[col]<lower_bound)|(df_heart[col]>upper_bound)]\n",
    "\n",
    "    for idx, row in outliers.iterrows():\n",
    "        outliers_info = row.to_dict()\n",
    "        outliers_info.update({\n",
    "            \"column_with_outlier\": col,\n",
    "            \"type\": \"low\" if row[col]<lower_bound else \"high\",\n",
    "            \"Q1\": Q1,\n",
    "            \"Q3\": Q3,\n",
    "            \"Median\": Median,\n",
    "            \"IQR\": IQR,\n",
    "            \"Lower bound\": lower_bound,\n",
    "            \"Upper bound\": upper_bound\n",
    "        })\n",
    "        outlier_rows.append(outliers_info)\n",
    "\n",
    "outliers_df = pd.DataFrame(outlier_rows)"
   ]
  },
  {
   "cell_type": "code",
   "execution_count": null,
   "id": "306d800e-9971-4e61-b797-78f56eb78894",
   "metadata": {},
   "outputs": [],
   "source": [
    "outliers_df.head()"
   ]
  },
  {
   "cell_type": "code",
   "execution_count": null,
   "id": "a2e39008-04ed-4c06-97f8-c174c0625c03",
   "metadata": {},
   "outputs": [],
   "source": [
    "outliers_df['column_with_outlier'].value_counts()"
   ]
  },
  {
   "cell_type": "code",
   "execution_count": null,
   "id": "ddb9ce9e-2469-46b8-82b5-dec959f0e957",
   "metadata": {},
   "outputs": [],
   "source": [
    "outliers_df[outliers_df['column_with_outlier']=='количество крупных сосудов (0-3), окрашенных при флюроскопии'][['количество крупных сосудов (0-3), окрашенных при флюроскопии','Median','IQR','Q3','возраст','target']]"
   ]
  },
  {
   "cell_type": "markdown",
   "id": "bf1bf160-576d-4dfd-aba0-bce232802459",
   "metadata": {},
   "source": [
    "### Количество крупных сосудов при флюроскопии может достигать только 3, значение 4 либо аномалия либо не правильно кодировка значения Nan. В таких случаях я бы проконсультировалась с кардиологом. Но думаю что для данного случая, заменю значения на Nan"
   ]
  },
  {
   "cell_type": "code",
   "execution_count": null,
   "id": "6bdd093c-6570-4e4b-a91f-dcb3be60b762",
   "metadata": {},
   "outputs": [],
   "source": [
    "df_heart['количество крупных сосудов (0-3), окрашенных при флюроскопии'] = df_heart['количество крупных сосудов (0-3), окрашенных при флюроскопии'].replace(4,np.nan)"
   ]
  },
  {
   "cell_type": "code",
   "execution_count": null,
   "id": "e9210ab3-cfac-4eff-9239-222a81bde763",
   "metadata": {},
   "outputs": [],
   "source": [
    "df_heart['количество крупных сосудов (0-3), окрашенных при флюроскопии'].value_counts(normalize=True, dropna=False)"
   ]
  },
  {
   "cell_type": "code",
   "execution_count": null,
   "id": "c02aef7e-4a25-4e3f-90fa-37c1f48e3b95",
   "metadata": {},
   "outputs": [],
   "source": [
    "outliers_df[outliers_df['column_with_outlier']=='артериальное давление в покое'][['артериальное давление в покое',\n",
    "'Median','IQR','Q3','возраст','target']]"
   ]
  },
  {
   "cell_type": "markdown",
   "id": "c20f65e5-04a9-4ee6-96b0-1a9d466fe031",
   "metadata": {},
   "source": [
    "### Показатель артериального давления в покое может быть выше 170 и достигать 200 (как говорит chatgpt), поэтому не похоже что тут есть признак аномалии или ошибочно введенных данных с аномальным выбросом "
   ]
  },
  {
   "cell_type": "code",
   "execution_count": null,
   "id": "3b27fe7e-c14b-4fdc-a7cf-ab6c528814ae",
   "metadata": {},
   "outputs": [],
   "source": [
    "outliers_df[outliers_df['column_with_outlier']=='холестерин сыворотки в мг/дл'][['холестерин сыворотки в мг/дл',\n",
    "'Median','IQR','Q3','возраст','target']]"
   ]
  },
  {
   "cell_type": "markdown",
   "id": "c0e03988-4d91-4ae9-93be-02cf13f56b3b",
   "metadata": {},
   "source": [
    "### Уровень холестерина выше 300 уже считается опасно высоким, но не невозможным. Для таких случаев я бы проконсультировалась с кардиологом. Но в целом, не похоже не ошибку в данных или аномальным выбросом. Возможно у человека редкая болезнь при которой холестерин опасно высокий"
   ]
  },
  {
   "cell_type": "code",
   "execution_count": null,
   "id": "f3f93206-7af2-49ac-b8a3-a6ff5e3d48f2",
   "metadata": {},
   "outputs": [],
   "source": [
    "outliers_df[outliers_df['column_with_outlier']=='депрессия ST, вызванная физической нагрузкой, по сравнению с состоянием покоя'][['депрессия ST, вызванная физической нагрузкой, по сравнению с состоянием покоя','Median','IQR','Q3','возраст','target']]"
   ]
  },
  {
   "cell_type": "markdown",
   "id": "b825cf87-83d7-4c4a-b961-2640f866e6c2",
   "metadata": {},
   "source": [
    "### Показатель выбросов депрессии ST тоже вызывают подозрение, но не являются невозможными. Поэтому оставляем как есть"
   ]
  },
  {
   "cell_type": "code",
   "execution_count": null,
   "id": "acc4d974-6e73-4123-982f-d3736f71d687",
   "metadata": {},
   "outputs": [],
   "source": [
    "outliers_df[outliers_df['column_with_outlier']\n",
    "=='достигнута максимальная частота сердечных сокращений'][['достигнута максимальная частота сердечных сокращений','Median','IQR','Q1','Q3','возраст','target']]"
   ]
  },
  {
   "cell_type": "markdown",
   "id": "fbf3e799-42ef-435d-95fb-0e48ba25e1b4",
   "metadata": {},
   "source": [
    "### Максимальная частота сердечных сокращений не может быть ниже 90. Больше похоже не ошибку в данных, думаю стоит сделать замену значения на медиану"
   ]
  },
  {
   "cell_type": "code",
   "execution_count": null,
   "id": "ae22943b-2829-43cb-a602-94130cf7d4cd",
   "metadata": {},
   "outputs": [],
   "source": [
    "median_val = df_heart['достигнута максимальная частота сердечных сокращений'].median()\n",
    "\n",
    "df_heart.loc[\n",
    "    df_heart['достигнута максимальная частота сердечных сокращений'] < 90,\n",
    "    'достигнута максимальная частота сердечных сокращений'\n",
    "] = median_val"
   ]
  },
  {
   "cell_type": "code",
   "execution_count": null,
   "id": "d71b8bb8-b1f1-4153-909e-d1e1fcbe9511",
   "metadata": {},
   "outputs": [],
   "source": [
    "df_heart = df_heart.sort_values(by='достигнута максимальная частота сердечных сокращений', ascending=True)\n",
    "df_heart.head()"
   ]
  },
  {
   "cell_type": "code",
   "execution_count": null,
   "id": "1e1aa488-b3e7-4caf-b53a-4813be73c1e1",
   "metadata": {},
   "outputs": [],
   "source": [
    "#Кодировка категориальных признаков\n",
    "df_heart[categorical_values] = df_heart[categorical_values].astype('category')"
   ]
  },
  {
   "cell_type": "code",
   "execution_count": null,
   "id": "5f60f3de-5554-48ae-a103-b7dc1df40e32",
   "metadata": {},
   "outputs": [],
   "source": [
    "encoder = ce.OneHotEncoder(cols=categorical_values, drop_invariant=True, use_cat_names=True)\n",
    "df_encoded=encoder.fit_transform(df_heart[categorical_values])"
   ]
  },
  {
   "cell_type": "code",
   "execution_count": null,
   "id": "567c9f52-3ee7-4702-9972-ccde74b840f4",
   "metadata": {},
   "outputs": [],
   "source": [
    "df_heart = pd.concat([df_heart.drop(columns=categorical_values), df_encoded], axis=1)"
   ]
  },
  {
   "cell_type": "code",
   "execution_count": null,
   "id": "57f6513d-60e3-4b1f-b2c3-5c6cbb959d11",
   "metadata": {},
   "outputs": [],
   "source": [
    "len(df_heart.columns)"
   ]
  },
  {
   "cell_type": "code",
   "execution_count": null,
   "id": "040e98a0-7286-4175-89cf-b8e2a862e23e",
   "metadata": {},
   "outputs": [],
   "source": [
    "replacements = {\n",
    "    'тип боли в груди (4 значения)': 'тип боли',\n",
    "    'результаты электрокардиографии в покое (значения 0,1,2)': 'экг',\n",
    "    'наклон пикового сегмента ST при нагрузке': 'наклон ST',\n",
    "    'дефект, где 3 = нормальный; 6 = фиксированный дефект; 7 = обратимый дефект': 'дефект ST',\n",
    "    'результаты электрокардиографии в покое (значения 0,1,2)': 'экг'\n",
    "}\n",
    "\n",
    "df_heart.rename(\n",
    "    columns=lambda x: next((x.replace(old, new) for old, new in replacements.items() if old in x), x),\n",
    "    inplace=True\n",
    ")\n"
   ]
  },
  {
   "cell_type": "code",
   "execution_count": null,
   "id": "477308ba-064f-4036-813e-3888279a0ed0",
   "metadata": {},
   "outputs": [],
   "source": [
    "df_heart.head()"
   ]
  },
  {
   "cell_type": "code",
   "execution_count": null,
   "id": "7c149e02-c21e-4fc9-8849-2c149eb16dd2",
   "metadata": {},
   "outputs": [],
   "source": [
    "df_heart.columns"
   ]
  },
  {
   "cell_type": "code",
   "execution_count": null,
   "id": "8fc3b55e-fa77-4e3c-8609-4fce2d2c2019",
   "metadata": {},
   "outputs": [],
   "source": [
    "# Построение матрицы корреляции для корреляционного анализа\n",
    "plt.figure(figsize=(20,16))\n",
    "corr_matrix = df_heart.corr(method='spearman').abs() #Так как количественные меры распределены не нормально, стоит избегать корреляции Пирсона\n",
    "sns.heatmap(corr_matrix, annot = True, cmap='coolwarm', linewidths=.5)\n",
    "plt.title('Матрица корреляции признаков')"
   ]
  },
  {
   "cell_type": "code",
   "execution_count": null,
   "id": "2f0b9787-74c6-4d01-8d23-c84d6dac5365",
   "metadata": {},
   "outputs": [],
   "source": [
    "# Основные влияющие на target переменные\n",
    "target_corr = df_heart.corr(method='spearman')['target'].abs()\n",
    "selected_features = target_corr[(target_corr>=0.2)&(target_corr<=0.7)]\n",
    "selected_features.sort_values(ascending=True)"
   ]
  },
  {
   "cell_type": "markdown",
   "id": "dec130e4-db63-4fc9-952a-9be314ba64f0",
   "metadata": {},
   "source": [
    "### Признаки дефект ST_3.0 и дефект ST_2.0 имеют корреляцию выше 80%, а так же наклон ST_2.0 и наклон ST_1.0 имеют корреляцию выше 80% это указывает на признак мультиколлинеарности и может быть проблемой при дальнейшем изучении. Поэтому удаляем один из признаков с меньшим влиянием на target переменную"
   ]
  },
  {
   "cell_type": "code",
   "execution_count": null,
   "id": "3a75af7b-c690-48eb-9eb2-b8cfb76ad19a",
   "metadata": {},
   "outputs": [],
   "source": [
    "selected_features = selected_features.drop(columns=['дефект ST_2.0','наклон ST_2.0'])"
   ]
  },
  {
   "cell_type": "code",
   "execution_count": null,
   "id": "d51557b5-e5e1-42ee-b878-216aea16a448",
   "metadata": {},
   "outputs": [],
   "source": [
    "# Финальный список признаков для дальнейшего изучения, по итогам корреляционного анализа\n",
    "selected_features_df = selected_features.reset_index()\n",
    "selected_features_df.columns=['Feature','Importance']\n",
    "selected_features_df.sort_values(by='Importance', ascending=False)"
   ]
  },
  {
   "cell_type": "markdown",
   "id": "38f2dff9-2e96-4e5c-9484-916464fdfb8c",
   "metadata": {},
   "source": [
    "## Дополнительный анализ значимости признаков"
   ]
  },
  {
   "cell_type": "code",
   "execution_count": null,
   "id": "a0022407-a8ac-4ee4-a750-5125101d41ae",
   "metadata": {},
   "outputs": [],
   "source": [
    "plt.figure(figsize=(16,4))\n",
    "for feature in numeric_values:\n",
    "    sns.kdeplot(df_heart[feature], label=feature)\n",
    "plt.title('Распределение количественных признаков')\n",
    "plt.legend()\n",
    "plt.show()"
   ]
  },
  {
   "cell_type": "code",
   "execution_count": null,
   "id": "aa373879-22d3-4301-8e9e-3235b7476eab",
   "metadata": {},
   "outputs": [],
   "source": [
    "from sklearn.model_selection import train_test_split\n",
    "from sklearn.ensemble import RandomForestClassifier\n",
    "\n",
    "#Разделяем признаки на главный target и влияющие (все кроме target)\n",
    "X = df_heart.drop(columns=['target'])\n",
    "y = df_heart['target']"
   ]
  },
  {
   "cell_type": "code",
   "execution_count": null,
   "id": "821aab2d-b0de-4292-bdf0-072eec266eb5",
   "metadata": {},
   "outputs": [],
   "source": [
    "X_train, X_test, y_train, y_test = train_test_split(X, y, test_size=0.3, random_state=42, stratify=y)"
   ]
  },
  {
   "cell_type": "code",
   "execution_count": null,
   "id": "fe05959a-18a1-43c8-b841-c96daf5db9dd",
   "metadata": {},
   "outputs": [],
   "source": [
    "rf_model = RandomForestClassifier(random_state=42)\n",
    "rf_model.fit(X_train,y_train)"
   ]
  },
  {
   "cell_type": "code",
   "execution_count": null,
   "id": "209c4514-80c0-4d50-94b6-059108903eec",
   "metadata": {},
   "outputs": [],
   "source": [
    "#Извлекаем список важности признаков\n",
    "feature_importance = pd.DataFrame({\n",
    "    'Feature': X.columns,\n",
    "    'Importance': rf_model.feature_importances_\n",
    "}).sort_values(by='Importance', ascending=False)"
   ]
  },
  {
   "cell_type": "code",
   "execution_count": null,
   "id": "24d5987e-70bd-4fe1-9fc8-baa3471dc4bb",
   "metadata": {},
   "outputs": [],
   "source": [
    "plt.figure(figsize=(16, 8))\n",
    "ax = sns.barplot(data=feature_importance, x='Importance', y='Feature')\n",
    "\n",
    "ax.set_title('Топ признаков по методу дерева решений (Random Forest)', fontsize=14)\n",
    "ax.set_xlabel('Значимость признака')\n",
    "ax.set_ylabel('Название признака')\n",
    "\n",
    "# Добавляем подписи к столбцам\n",
    "for container in ax.containers:\n",
    "    ax.bar_label(container, fmt='%.3f')\n",
    "\n",
    "plt.tight_layout()\n",
    "plt.show()"
   ]
  },
  {
   "cell_type": "code",
   "execution_count": null,
   "id": "208c171f-4635-4197-9db6-70529dc0bb7c",
   "metadata": {},
   "outputs": [],
   "source": [
    "plt.figure(figsize=(16, 8))\n",
    "ax = sns.barplot(data=selected_features_df, x='Importance', y='Feature')\n",
    "\n",
    "ax.set_title('Топ признаков по итогам корреляционного анализа', fontsize=14)\n",
    "ax.set_xlabel('Значимость признака')\n",
    "ax.set_ylabel('Название признака')\n",
    "\n",
    "# Добавляем подписи к столбцам\n",
    "for container in ax.containers:\n",
    "    ax.bar_label(container, fmt='%.3f')\n",
    "\n",
    "plt.tight_layout()\n",
    "plt.show()"
   ]
  },
  {
   "cell_type": "code",
   "execution_count": null,
   "id": "43321f8e-6b8b-47da-9212-cbe349d919c7",
   "metadata": {},
   "outputs": [],
   "source": [
    "selected_features_df.rename(columns={'Importance': 'Correlation'}, inplace=True)\n",
    "feature_importance_prior_features = feature_importance[feature_importance['Importance']>0.01]"
   ]
  },
  {
   "cell_type": "code",
   "execution_count": null,
   "id": "65be07e5-62f0-481f-b121-4f9ef81b337f",
   "metadata": {},
   "outputs": [],
   "source": [
    "merged_df = pd.merge(feature_importance_prior_features, selected_features_df, on='Feature', how='outer')"
   ]
  },
  {
   "cell_type": "code",
   "execution_count": null,
   "id": "33c1aab0-9f31-4938-a1bf-df7bf0c6f036",
   "metadata": {},
   "outputs": [],
   "source": [
    "# итоговый список отобранных признаков для проведения стат тестов\n",
    "merged_df.sort_values(by='Importance', ascending=False)"
   ]
  },
  {
   "cell_type": "markdown",
   "id": "3fe60988-a614-4dc1-bfcf-79d25ec41801",
   "metadata": {},
   "source": [
    "### 🧾 Краткий вывод по отобранным признакам\n",
    "\n",
    "✅ **Сильное совпадение двух подходов:**\n",
    "\n",
    "Признаки `дефект ST_2.0`, `достигнута максимальная частота сердечных сокращений`, `тип боли_2.0`, `тип боли_1.0`, `наклон ST_2.0` показали высокую **и корреляцию, и важность** — они особенно перспективны для дальнейшего анализа и статистических тестов.\n",
    "\n",
    "---\n",
    "\n",
    "🧠 **Признаки с высокой важностью, но без корреляции:**\n",
    "\n",
    "Например, `артериальное давление в покое`, `холестерин`, `тип боли_3.0` — важны по Random Forest, но не проявляют линейной связи (возможно, у них **нелинейная зависимость**, улавливаемая деревьями решений).\n",
    "\n",
    "---\n",
    "\n",
    "📉 **Признаки с высокой корреляцией, но низкой важностью:**\n",
    "\n",
    "Признак `тип боли_0.0` имеет сильную отрицательную корреляцию, но модель оценивает его вклад как небольшой — возможно, его влияние **перекрывается другими признаками**.\n",
    "\n",
    "---\n",
    "\n",
    "🧬 **Клинически значимые признаки:**\n",
    "\n",
    "Признаки `возраст` и `пол (1 - мужчина, 0 - женщина)` включены в список кандидатов на проведение статтестов несмотря на умеренные значения важности и корреляции. Эти признаки являются **ключевыми в медицинском контексте** и могут выявить значимые различия между группами.\n",
    "\n",
    "---\n",
    "\n",
    "⚠️ **Пропуски в корреляции (NaN):**\n",
    "\n",
    "Это признаки, которые **не участвовали в корреляционном анализе** — вероятно, не показали значимых линейных связей или были исключены ранее.\n",
    "\n",
    "---\n",
    "\n",
    "🟢 **Вывод:**\n",
    "\n",
    "Для проведения **статистических тестов и финального анализа** рекомендовано:\n",
    "- Ориентироваться на признаки, показавшие значимость по обоим подходам.\n",
    "- Обязательно включить `возраст` и `пол` как **базовые демографические параметры**.\n"
   ]
  }
 ],
 "metadata": {
  "kernelspec": {
   "display_name": "base",
   "language": "python",
   "name": "python3"
  },
  "language_info": {
   "codemirror_mode": {
    "name": "ipython",
    "version": 3
   },
   "file_extension": ".py",
   "mimetype": "text/x-python",
   "name": "python",
   "nbconvert_exporter": "python",
   "pygments_lexer": "ipython3",
   "version": "3.12.7"
  }
 },
 "nbformat": 4,
 "nbformat_minor": 5
}
